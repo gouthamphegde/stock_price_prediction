{
  "nbformat": 4,
  "nbformat_minor": 0,
  "metadata": {
    "colab": {
      "name": "google_stock_price.ipynb",
      "provenance": [],
      "collapsed_sections": []
    },
    "kernelspec": {
      "display_name": "Python 3",
      "name": "python3"
    },
    "language_info": {
      "name": "python"
    }
  },
  "cells": [
    {
      "cell_type": "code",
      "metadata": {
        "id": "LMSuv6ZucN0L"
      },
      "source": [
        "import numpy as np\n",
        "import matplotlib.pyplot as plt\n",
        "import pandas as pd\n",
        "import tensorflow as tf\n",
        "from sklearn.preprocessing import MinMaxScaler\n"
      ],
      "execution_count": 1,
      "outputs": []
    },
    {
      "cell_type": "markdown",
      "metadata": {
        "id": "UaoTEq5Wsy19"
      },
      "source": [
        "## Importing data and processing to create a dataset"
      ]
    },
    {
      "cell_type": "code",
      "metadata": {
        "id": "DzZnG6dAhhFq",
        "colab": {
          "resources": {
            "http://localhost:8080/nbextensions/google.colab/files.js": {
              "data": "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",
              "ok": true,
              "headers": [
                [
                  "content-type",
                  "application/javascript"
                ]
              ],
              "status": 200,
              "status_text": ""
            }
          },
          "base_uri": "https://localhost:8080/",
          "height": 73
        },
        "outputId": "3d4b5b36-de12-4c5e-9f60-d9bd0333d858"
      },
      "source": [
        "from google.colab import files\n",
        "def getLocalFiles():\n",
        "    _files = files.upload()\n",
        "    if len(_files) >0:\n",
        "       for k,v in _files.items():\n",
        "         open(k,'wb').write(v)\n",
        "getLocalFiles()"
      ],
      "execution_count": 2,
      "outputs": [
        {
          "output_type": "display_data",
          "data": {
            "text/html": [
              "\n",
              "     <input type=\"file\" id=\"files-f8c8eae5-68ec-48af-8e57-1916bed2dd96\" name=\"files[]\" multiple disabled\n",
              "        style=\"border:none\" />\n",
              "     <output id=\"result-f8c8eae5-68ec-48af-8e57-1916bed2dd96\">\n",
              "      Upload widget is only available when the cell has been executed in the\n",
              "      current browser session. Please rerun this cell to enable.\n",
              "      </output>\n",
              "      <script src=\"/nbextensions/google.colab/files.js\"></script> "
            ],
            "text/plain": [
              "<IPython.core.display.HTML object>"
            ]
          },
          "metadata": {}
        },
        {
          "output_type": "stream",
          "name": "stdout",
          "text": [
            "Saving GOOG (2).csv to GOOG (2).csv\n"
          ]
        }
      ]
    },
    {
      "cell_type": "code",
      "metadata": {
        "id": "4ZeL2tyJiQvs"
      },
      "source": [
        "data = pd.read_csv('GOOG (2).csv' , date_parser=True)"
      ],
      "execution_count": 3,
      "outputs": []
    },
    {
      "cell_type": "code",
      "metadata": {
        "id": "8dFTottukMpM",
        "colab": {
          "base_uri": "https://localhost:8080/",
          "height": 203
        },
        "outputId": "18679800-2f39-4d43-9b0b-e8c13e23f017"
      },
      "source": [
        "data.head()"
      ],
      "execution_count": 4,
      "outputs": [
        {
          "output_type": "execute_result",
          "data": {
            "text/html": [
              "<div>\n",
              "<style scoped>\n",
              "    .dataframe tbody tr th:only-of-type {\n",
              "        vertical-align: middle;\n",
              "    }\n",
              "\n",
              "    .dataframe tbody tr th {\n",
              "        vertical-align: top;\n",
              "    }\n",
              "\n",
              "    .dataframe thead th {\n",
              "        text-align: right;\n",
              "    }\n",
              "</style>\n",
              "<table border=\"1\" class=\"dataframe\">\n",
              "  <thead>\n",
              "    <tr style=\"text-align: right;\">\n",
              "      <th></th>\n",
              "      <th>Date</th>\n",
              "      <th>Open</th>\n",
              "      <th>High</th>\n",
              "      <th>Low</th>\n",
              "      <th>Close</th>\n",
              "      <th>Adj Close</th>\n",
              "      <th>Volume</th>\n",
              "    </tr>\n",
              "  </thead>\n",
              "  <tbody>\n",
              "    <tr>\n",
              "      <th>0</th>\n",
              "      <td>2011-09-01</td>\n",
              "      <td>269.365356</td>\n",
              "      <td>270.899597</td>\n",
              "      <td>264.618134</td>\n",
              "      <td>265.255768</td>\n",
              "      <td>265.255768</td>\n",
              "      <td>4849108</td>\n",
              "    </tr>\n",
              "    <tr>\n",
              "      <th>1</th>\n",
              "      <td>2011-09-02</td>\n",
              "      <td>261.255737</td>\n",
              "      <td>262.974304</td>\n",
              "      <td>259.392731</td>\n",
              "      <td>261.440063</td>\n",
              "      <td>261.440063</td>\n",
              "      <td>4820401</td>\n",
              "    </tr>\n",
              "    <tr>\n",
              "      <th>2</th>\n",
              "      <td>2011-09-06</td>\n",
              "      <td>254.446274</td>\n",
              "      <td>260.403931</td>\n",
              "      <td>254.296829</td>\n",
              "      <td>260.115021</td>\n",
              "      <td>260.115021</td>\n",
              "      <td>5451959</td>\n",
              "    </tr>\n",
              "    <tr>\n",
              "      <th>3</th>\n",
              "      <td>2011-09-07</td>\n",
              "      <td>264.234589</td>\n",
              "      <td>266.969330</td>\n",
              "      <td>262.715271</td>\n",
              "      <td>266.017914</td>\n",
              "      <td>266.017914</td>\n",
              "      <td>5532259</td>\n",
              "    </tr>\n",
              "    <tr>\n",
              "      <th>4</th>\n",
              "      <td>2011-09-08</td>\n",
              "      <td>265.903320</td>\n",
              "      <td>268.543427</td>\n",
              "      <td>264.956879</td>\n",
              "      <td>266.481171</td>\n",
              "      <td>266.481171</td>\n",
              "      <td>4778845</td>\n",
              "    </tr>\n",
              "  </tbody>\n",
              "</table>\n",
              "</div>"
            ],
            "text/plain": [
              "         Date        Open        High  ...       Close   Adj Close   Volume\n",
              "0  2011-09-01  269.365356  270.899597  ...  265.255768  265.255768  4849108\n",
              "1  2011-09-02  261.255737  262.974304  ...  261.440063  261.440063  4820401\n",
              "2  2011-09-06  254.446274  260.403931  ...  260.115021  260.115021  5451959\n",
              "3  2011-09-07  264.234589  266.969330  ...  266.017914  266.017914  5532259\n",
              "4  2011-09-08  265.903320  268.543427  ...  266.481171  266.481171  4778845\n",
              "\n",
              "[5 rows x 7 columns]"
            ]
          },
          "metadata": {},
          "execution_count": 4
        }
      ]
    },
    {
      "cell_type": "code",
      "metadata": {
        "id": "h5D-IYLVkOOf",
        "colab": {
          "base_uri": "https://localhost:8080/"
        },
        "outputId": "70b55d5f-e041-4e67-a8d5-4f574b811b93"
      },
      "source": [
        "data.shape"
      ],
      "execution_count": 5,
      "outputs": [
        {
          "output_type": "execute_result",
          "data": {
            "text/plain": [
              "(2516, 7)"
            ]
          },
          "metadata": {},
          "execution_count": 5
        }
      ]
    },
    {
      "cell_type": "code",
      "metadata": {
        "id": "qx_wDRbSkyoL",
        "colab": {
          "base_uri": "https://localhost:8080/",
          "height": 417
        },
        "outputId": "54fff7d0-073a-43ef-fa56-cb324472d825"
      },
      "source": [
        "data_train = data[data['Date'] < '2020-09-01'].copy()\n",
        "data_train"
      ],
      "execution_count": 6,
      "outputs": [
        {
          "output_type": "execute_result",
          "data": {
            "text/html": [
              "<div>\n",
              "<style scoped>\n",
              "    .dataframe tbody tr th:only-of-type {\n",
              "        vertical-align: middle;\n",
              "    }\n",
              "\n",
              "    .dataframe tbody tr th {\n",
              "        vertical-align: top;\n",
              "    }\n",
              "\n",
              "    .dataframe thead th {\n",
              "        text-align: right;\n",
              "    }\n",
              "</style>\n",
              "<table border=\"1\" class=\"dataframe\">\n",
              "  <thead>\n",
              "    <tr style=\"text-align: right;\">\n",
              "      <th></th>\n",
              "      <th>Date</th>\n",
              "      <th>Open</th>\n",
              "      <th>High</th>\n",
              "      <th>Low</th>\n",
              "      <th>Close</th>\n",
              "      <th>Adj Close</th>\n",
              "      <th>Volume</th>\n",
              "    </tr>\n",
              "  </thead>\n",
              "  <tbody>\n",
              "    <tr>\n",
              "      <th>0</th>\n",
              "      <td>2011-09-01</td>\n",
              "      <td>269.365356</td>\n",
              "      <td>270.899597</td>\n",
              "      <td>264.618134</td>\n",
              "      <td>265.255768</td>\n",
              "      <td>265.255768</td>\n",
              "      <td>4849108</td>\n",
              "    </tr>\n",
              "    <tr>\n",
              "      <th>1</th>\n",
              "      <td>2011-09-02</td>\n",
              "      <td>261.255737</td>\n",
              "      <td>262.974304</td>\n",
              "      <td>259.392731</td>\n",
              "      <td>261.440063</td>\n",
              "      <td>261.440063</td>\n",
              "      <td>4820401</td>\n",
              "    </tr>\n",
              "    <tr>\n",
              "      <th>2</th>\n",
              "      <td>2011-09-06</td>\n",
              "      <td>254.446274</td>\n",
              "      <td>260.403931</td>\n",
              "      <td>254.296829</td>\n",
              "      <td>260.115021</td>\n",
              "      <td>260.115021</td>\n",
              "      <td>5451959</td>\n",
              "    </tr>\n",
              "    <tr>\n",
              "      <th>3</th>\n",
              "      <td>2011-09-07</td>\n",
              "      <td>264.234589</td>\n",
              "      <td>266.969330</td>\n",
              "      <td>262.715271</td>\n",
              "      <td>266.017914</td>\n",
              "      <td>266.017914</td>\n",
              "      <td>5532259</td>\n",
              "    </tr>\n",
              "    <tr>\n",
              "      <th>4</th>\n",
              "      <td>2011-09-08</td>\n",
              "      <td>265.903320</td>\n",
              "      <td>268.543427</td>\n",
              "      <td>264.956879</td>\n",
              "      <td>266.481171</td>\n",
              "      <td>266.481171</td>\n",
              "      <td>4778845</td>\n",
              "    </tr>\n",
              "    <tr>\n",
              "      <th>...</th>\n",
              "      <td>...</td>\n",
              "      <td>...</td>\n",
              "      <td>...</td>\n",
              "      <td>...</td>\n",
              "      <td>...</td>\n",
              "      <td>...</td>\n",
              "      <td>...</td>\n",
              "    </tr>\n",
              "    <tr>\n",
              "      <th>2259</th>\n",
              "      <td>2020-08-25</td>\n",
              "      <td>1582.069946</td>\n",
              "      <td>1611.619995</td>\n",
              "      <td>1582.069946</td>\n",
              "      <td>1608.219971</td>\n",
              "      <td>1608.219971</td>\n",
              "      <td>2247100</td>\n",
              "    </tr>\n",
              "    <tr>\n",
              "      <th>2260</th>\n",
              "      <td>2020-08-26</td>\n",
              "      <td>1608.000000</td>\n",
              "      <td>1659.219971</td>\n",
              "      <td>1603.599976</td>\n",
              "      <td>1652.380005</td>\n",
              "      <td>1652.380005</td>\n",
              "      <td>3993400</td>\n",
              "    </tr>\n",
              "    <tr>\n",
              "      <th>2261</th>\n",
              "      <td>2020-08-27</td>\n",
              "      <td>1653.680054</td>\n",
              "      <td>1655.000000</td>\n",
              "      <td>1625.750000</td>\n",
              "      <td>1634.329956</td>\n",
              "      <td>1634.329956</td>\n",
              "      <td>1861600</td>\n",
              "    </tr>\n",
              "    <tr>\n",
              "      <th>2262</th>\n",
              "      <td>2020-08-28</td>\n",
              "      <td>1633.489990</td>\n",
              "      <td>1647.170044</td>\n",
              "      <td>1630.750000</td>\n",
              "      <td>1644.410034</td>\n",
              "      <td>1644.410034</td>\n",
              "      <td>1499000</td>\n",
              "    </tr>\n",
              "    <tr>\n",
              "      <th>2263</th>\n",
              "      <td>2020-08-31</td>\n",
              "      <td>1647.890015</td>\n",
              "      <td>1647.964966</td>\n",
              "      <td>1630.310059</td>\n",
              "      <td>1634.180054</td>\n",
              "      <td>1634.180054</td>\n",
              "      <td>1823400</td>\n",
              "    </tr>\n",
              "  </tbody>\n",
              "</table>\n",
              "<p>2264 rows × 7 columns</p>\n",
              "</div>"
            ],
            "text/plain": [
              "            Date         Open         High  ...        Close    Adj Close   Volume\n",
              "0     2011-09-01   269.365356   270.899597  ...   265.255768   265.255768  4849108\n",
              "1     2011-09-02   261.255737   262.974304  ...   261.440063   261.440063  4820401\n",
              "2     2011-09-06   254.446274   260.403931  ...   260.115021   260.115021  5451959\n",
              "3     2011-09-07   264.234589   266.969330  ...   266.017914   266.017914  5532259\n",
              "4     2011-09-08   265.903320   268.543427  ...   266.481171   266.481171  4778845\n",
              "...          ...          ...          ...  ...          ...          ...      ...\n",
              "2259  2020-08-25  1582.069946  1611.619995  ...  1608.219971  1608.219971  2247100\n",
              "2260  2020-08-26  1608.000000  1659.219971  ...  1652.380005  1652.380005  3993400\n",
              "2261  2020-08-27  1653.680054  1655.000000  ...  1634.329956  1634.329956  1861600\n",
              "2262  2020-08-28  1633.489990  1647.170044  ...  1644.410034  1644.410034  1499000\n",
              "2263  2020-08-31  1647.890015  1647.964966  ...  1634.180054  1634.180054  1823400\n",
              "\n",
              "[2264 rows x 7 columns]"
            ]
          },
          "metadata": {},
          "execution_count": 6
        }
      ]
    },
    {
      "cell_type": "code",
      "metadata": {
        "id": "w5Q7NjGQlQ5A",
        "colab": {
          "base_uri": "https://localhost:8080/",
          "height": 417
        },
        "outputId": "ad071c0e-a786-460a-c47b-a435659cf03a"
      },
      "source": [
        "data_test = data[data['Date'] >= '2020-09-01'].copy()\n",
        "data_test"
      ],
      "execution_count": 7,
      "outputs": [
        {
          "output_type": "execute_result",
          "data": {
            "text/html": [
              "<div>\n",
              "<style scoped>\n",
              "    .dataframe tbody tr th:only-of-type {\n",
              "        vertical-align: middle;\n",
              "    }\n",
              "\n",
              "    .dataframe tbody tr th {\n",
              "        vertical-align: top;\n",
              "    }\n",
              "\n",
              "    .dataframe thead th {\n",
              "        text-align: right;\n",
              "    }\n",
              "</style>\n",
              "<table border=\"1\" class=\"dataframe\">\n",
              "  <thead>\n",
              "    <tr style=\"text-align: right;\">\n",
              "      <th></th>\n",
              "      <th>Date</th>\n",
              "      <th>Open</th>\n",
              "      <th>High</th>\n",
              "      <th>Low</th>\n",
              "      <th>Close</th>\n",
              "      <th>Adj Close</th>\n",
              "      <th>Volume</th>\n",
              "    </tr>\n",
              "  </thead>\n",
              "  <tbody>\n",
              "    <tr>\n",
              "      <th>2264</th>\n",
              "      <td>2020-09-01</td>\n",
              "      <td>1636.630005</td>\n",
              "      <td>1665.729980</td>\n",
              "      <td>1632.219971</td>\n",
              "      <td>1660.709961</td>\n",
              "      <td>1660.709961</td>\n",
              "      <td>1825300</td>\n",
              "    </tr>\n",
              "    <tr>\n",
              "      <th>2265</th>\n",
              "      <td>2020-09-02</td>\n",
              "      <td>1673.775024</td>\n",
              "      <td>1733.180054</td>\n",
              "      <td>1666.329956</td>\n",
              "      <td>1728.280029</td>\n",
              "      <td>1728.280029</td>\n",
              "      <td>2511200</td>\n",
              "    </tr>\n",
              "    <tr>\n",
              "      <th>2266</th>\n",
              "      <td>2020-09-03</td>\n",
              "      <td>1709.713989</td>\n",
              "      <td>1709.713989</td>\n",
              "      <td>1615.060059</td>\n",
              "      <td>1641.839966</td>\n",
              "      <td>1641.839966</td>\n",
              "      <td>3107800</td>\n",
              "    </tr>\n",
              "    <tr>\n",
              "      <th>2267</th>\n",
              "      <td>2020-09-04</td>\n",
              "      <td>1624.260010</td>\n",
              "      <td>1645.109985</td>\n",
              "      <td>1547.613037</td>\n",
              "      <td>1591.040039</td>\n",
              "      <td>1591.040039</td>\n",
              "      <td>2608600</td>\n",
              "    </tr>\n",
              "    <tr>\n",
              "      <th>2268</th>\n",
              "      <td>2020-09-08</td>\n",
              "      <td>1533.510010</td>\n",
              "      <td>1563.864990</td>\n",
              "      <td>1528.010010</td>\n",
              "      <td>1532.390015</td>\n",
              "      <td>1532.390015</td>\n",
              "      <td>2610900</td>\n",
              "    </tr>\n",
              "    <tr>\n",
              "      <th>...</th>\n",
              "      <td>...</td>\n",
              "      <td>...</td>\n",
              "      <td>...</td>\n",
              "      <td>...</td>\n",
              "      <td>...</td>\n",
              "      <td>...</td>\n",
              "      <td>...</td>\n",
              "    </tr>\n",
              "    <tr>\n",
              "      <th>2511</th>\n",
              "      <td>2021-08-25</td>\n",
              "      <td>2857.659912</td>\n",
              "      <td>2866.260010</td>\n",
              "      <td>2848.790039</td>\n",
              "      <td>2859.000000</td>\n",
              "      <td>2859.000000</td>\n",
              "      <td>641900</td>\n",
              "    </tr>\n",
              "    <tr>\n",
              "      <th>2512</th>\n",
              "      <td>2021-08-26</td>\n",
              "      <td>2852.370117</td>\n",
              "      <td>2862.696045</td>\n",
              "      <td>2841.830078</td>\n",
              "      <td>2842.459961</td>\n",
              "      <td>2842.459961</td>\n",
              "      <td>746100</td>\n",
              "    </tr>\n",
              "    <tr>\n",
              "      <th>2513</th>\n",
              "      <td>2021-08-27</td>\n",
              "      <td>2842.250000</td>\n",
              "      <td>2900.219971</td>\n",
              "      <td>2840.399902</td>\n",
              "      <td>2891.010010</td>\n",
              "      <td>2891.010010</td>\n",
              "      <td>1228100</td>\n",
              "    </tr>\n",
              "    <tr>\n",
              "      <th>2514</th>\n",
              "      <td>2021-08-30</td>\n",
              "      <td>2894.090088</td>\n",
              "      <td>2929.790039</td>\n",
              "      <td>2892.000000</td>\n",
              "      <td>2909.389893</td>\n",
              "      <td>2909.389893</td>\n",
              "      <td>845800</td>\n",
              "    </tr>\n",
              "    <tr>\n",
              "      <th>2515</th>\n",
              "      <td>2021-08-31</td>\n",
              "      <td>2917.689941</td>\n",
              "      <td>2922.239990</td>\n",
              "      <td>2900.000000</td>\n",
              "      <td>2909.239990</td>\n",
              "      <td>2909.239990</td>\n",
              "      <td>1336700</td>\n",
              "    </tr>\n",
              "  </tbody>\n",
              "</table>\n",
              "<p>252 rows × 7 columns</p>\n",
              "</div>"
            ],
            "text/plain": [
              "            Date         Open         High  ...        Close    Adj Close   Volume\n",
              "2264  2020-09-01  1636.630005  1665.729980  ...  1660.709961  1660.709961  1825300\n",
              "2265  2020-09-02  1673.775024  1733.180054  ...  1728.280029  1728.280029  2511200\n",
              "2266  2020-09-03  1709.713989  1709.713989  ...  1641.839966  1641.839966  3107800\n",
              "2267  2020-09-04  1624.260010  1645.109985  ...  1591.040039  1591.040039  2608600\n",
              "2268  2020-09-08  1533.510010  1563.864990  ...  1532.390015  1532.390015  2610900\n",
              "...          ...          ...          ...  ...          ...          ...      ...\n",
              "2511  2021-08-25  2857.659912  2866.260010  ...  2859.000000  2859.000000   641900\n",
              "2512  2021-08-26  2852.370117  2862.696045  ...  2842.459961  2842.459961   746100\n",
              "2513  2021-08-27  2842.250000  2900.219971  ...  2891.010010  2891.010010  1228100\n",
              "2514  2021-08-30  2894.090088  2929.790039  ...  2909.389893  2909.389893   845800\n",
              "2515  2021-08-31  2917.689941  2922.239990  ...  2909.239990  2909.239990  1336700\n",
              "\n",
              "[252 rows x 7 columns]"
            ]
          },
          "metadata": {},
          "execution_count": 7
        }
      ]
    },
    {
      "cell_type": "code",
      "metadata": {
        "id": "YT7uz1X8lmiD"
      },
      "source": [
        ""
      ],
      "execution_count": null,
      "outputs": []
    },
    {
      "cell_type": "code",
      "metadata": {
        "id": "G42P2P28l0wv"
      },
      "source": [
        "\n",
        "\n",
        "training_set = data_train.iloc[:,4:5]"
      ],
      "execution_count": 8,
      "outputs": []
    },
    {
      "cell_type": "code",
      "metadata": {
        "id": "n2tke3yipQJH",
        "colab": {
          "base_uri": "https://localhost:8080/",
          "height": 417
        },
        "outputId": "442fdbce-582e-4c7e-ad91-8dddc18920a2"
      },
      "source": [
        "training_set"
      ],
      "execution_count": 187,
      "outputs": [
        {
          "output_type": "execute_result",
          "data": {
            "text/html": [
              "<div>\n",
              "<style scoped>\n",
              "    .dataframe tbody tr th:only-of-type {\n",
              "        vertical-align: middle;\n",
              "    }\n",
              "\n",
              "    .dataframe tbody tr th {\n",
              "        vertical-align: top;\n",
              "    }\n",
              "\n",
              "    .dataframe thead th {\n",
              "        text-align: right;\n",
              "    }\n",
              "</style>\n",
              "<table border=\"1\" class=\"dataframe\">\n",
              "  <thead>\n",
              "    <tr style=\"text-align: right;\">\n",
              "      <th></th>\n",
              "      <th>Close</th>\n",
              "    </tr>\n",
              "  </thead>\n",
              "  <tbody>\n",
              "    <tr>\n",
              "      <th>0</th>\n",
              "      <td>265.255768</td>\n",
              "    </tr>\n",
              "    <tr>\n",
              "      <th>1</th>\n",
              "      <td>261.440063</td>\n",
              "    </tr>\n",
              "    <tr>\n",
              "      <th>2</th>\n",
              "      <td>260.115021</td>\n",
              "    </tr>\n",
              "    <tr>\n",
              "      <th>3</th>\n",
              "      <td>266.017914</td>\n",
              "    </tr>\n",
              "    <tr>\n",
              "      <th>4</th>\n",
              "      <td>266.481171</td>\n",
              "    </tr>\n",
              "    <tr>\n",
              "      <th>...</th>\n",
              "      <td>...</td>\n",
              "    </tr>\n",
              "    <tr>\n",
              "      <th>2259</th>\n",
              "      <td>1608.219971</td>\n",
              "    </tr>\n",
              "    <tr>\n",
              "      <th>2260</th>\n",
              "      <td>1652.380005</td>\n",
              "    </tr>\n",
              "    <tr>\n",
              "      <th>2261</th>\n",
              "      <td>1634.329956</td>\n",
              "    </tr>\n",
              "    <tr>\n",
              "      <th>2262</th>\n",
              "      <td>1644.410034</td>\n",
              "    </tr>\n",
              "    <tr>\n",
              "      <th>2263</th>\n",
              "      <td>1634.180054</td>\n",
              "    </tr>\n",
              "  </tbody>\n",
              "</table>\n",
              "<p>2264 rows × 1 columns</p>\n",
              "</div>"
            ],
            "text/plain": [
              "            Close\n",
              "0      265.255768\n",
              "1      261.440063\n",
              "2      260.115021\n",
              "3      266.017914\n",
              "4      266.481171\n",
              "...           ...\n",
              "2259  1608.219971\n",
              "2260  1652.380005\n",
              "2261  1634.329956\n",
              "2262  1644.410034\n",
              "2263  1634.180054\n",
              "\n",
              "[2264 rows x 1 columns]"
            ]
          },
          "metadata": {},
          "execution_count": 187
        }
      ]
    },
    {
      "cell_type": "code",
      "metadata": {
        "id": "5fKBK2Rtr4ef"
      },
      "source": [
        "#Scaling\n",
        "scaler = MinMaxScaler()\n",
        "training_set_scaled = scaler.fit_transform(training_set)"
      ],
      "execution_count": 9,
      "outputs": []
    },
    {
      "cell_type": "code",
      "metadata": {
        "id": "u7gasBNZpRxK"
      },
      "source": [
        ""
      ],
      "execution_count": null,
      "outputs": []
    },
    {
      "cell_type": "code",
      "metadata": {
        "id": "ClWKxeaoqoTB"
      },
      "source": [
        "#Creating Dataset\n",
        "X_train = []\n",
        "Y_train=[]\n",
        "\n",
        "#Consider previous 100 days to predict the output of 101 day , (change and check while training model)\n",
        "\n",
        "for i in range(100 , training_set_scaled.shape[0]):\n",
        "  X_train.append(training_set_scaled[i - 100:i])\n",
        "  Y_train.append(training_set_scaled[i,0])"
      ],
      "execution_count": 10,
      "outputs": []
    },
    {
      "cell_type": "code",
      "metadata": {
        "id": "a_4Otpldrp3N"
      },
      "source": [
        "X_train , Y_train = np.array(X_train) , np.array(Y_train)"
      ],
      "execution_count": 11,
      "outputs": []
    },
    {
      "cell_type": "code",
      "metadata": {
        "id": "1R9IZbEGsRuc",
        "colab": {
          "base_uri": "https://localhost:8080/"
        },
        "outputId": "779c1a02-040b-4f4e-a288-61250778666a"
      },
      "source": [
        "X_train.shape , Y_train.shape"
      ],
      "execution_count": 12,
      "outputs": [
        {
          "output_type": "execute_result",
          "data": {
            "text/plain": [
              "((2164, 100, 1), (2164,))"
            ]
          },
          "metadata": {},
          "execution_count": 12
        }
      ]
    },
    {
      "cell_type": "markdown",
      "metadata": {
        "id": "qEX4lNnXs8P9"
      },
      "source": [
        "# Creating RNN (LSTM) Model to predict Price"
      ]
    },
    {
      "cell_type": "code",
      "metadata": {
        "id": "w_HUyTfitAnJ"
      },
      "source": [
        "regressor_model = tf.keras.Sequential()\n"
      ],
      "execution_count": 13,
      "outputs": []
    },
    {
      "cell_type": "code",
      "metadata": {
        "id": "yVFOhTWCtTcM"
      },
      "source": [
        "regressor_model.add(tf.keras.layers.LSTM(units = 60, return_sequences = True, input_shape = (X_train.shape[1], 1)))\n",
        "regressor_model.add(tf.keras.layers.Dropout(rate = 0.20))"
      ],
      "execution_count": 14,
      "outputs": []
    },
    {
      "cell_type": "code",
      "metadata": {
        "id": "QGsFh0pTz6fx"
      },
      "source": [
        "regressor_model.add(tf.keras.layers.LSTM(units = 60, return_sequences = True ))\n",
        "regressor_model.add(tf.keras.layers.Dropout(rate = 0.20))\n",
        "\n",
        "regressor_model.add(tf.keras.layers.LSTM(units = 80, return_sequences = True ))\n",
        "regressor_model.add(tf.keras.layers.Dropout(rate = 0.20))\n",
        "\n",
        "regressor_model.add(tf.keras.layers.LSTM(units = 120, return_sequences = False ))\n",
        "regressor_model.add(tf.keras.layers.Dropout(rate = 0.20))"
      ],
      "execution_count": 15,
      "outputs": []
    },
    {
      "cell_type": "code",
      "metadata": {
        "id": "39uLtVag1tyn"
      },
      "source": [
        "regressor_model.add(tf.keras.layers.Dense(units=1))"
      ],
      "execution_count": 16,
      "outputs": []
    },
    {
      "cell_type": "code",
      "metadata": {
        "id": "fB4cuyk62BDe",
        "colab": {
          "base_uri": "https://localhost:8080/"
        },
        "outputId": "09b284be-3d98-4a88-92ed-7ea2c6fed48b"
      },
      "source": [
        "regressor_model.summary()"
      ],
      "execution_count": 17,
      "outputs": [
        {
          "output_type": "stream",
          "name": "stdout",
          "text": [
            "Model: \"sequential\"\n",
            "_________________________________________________________________\n",
            "Layer (type)                 Output Shape              Param #   \n",
            "=================================================================\n",
            "lstm (LSTM)                  (None, 100, 60)           14880     \n",
            "_________________________________________________________________\n",
            "dropout (Dropout)            (None, 100, 60)           0         \n",
            "_________________________________________________________________\n",
            "lstm_1 (LSTM)                (None, 100, 60)           29040     \n",
            "_________________________________________________________________\n",
            "dropout_1 (Dropout)          (None, 100, 60)           0         \n",
            "_________________________________________________________________\n",
            "lstm_2 (LSTM)                (None, 100, 80)           45120     \n",
            "_________________________________________________________________\n",
            "dropout_2 (Dropout)          (None, 100, 80)           0         \n",
            "_________________________________________________________________\n",
            "lstm_3 (LSTM)                (None, 120)               96480     \n",
            "_________________________________________________________________\n",
            "dropout_3 (Dropout)          (None, 120)               0         \n",
            "_________________________________________________________________\n",
            "dense (Dense)                (None, 1)                 121       \n",
            "=================================================================\n",
            "Total params: 185,641\n",
            "Trainable params: 185,641\n",
            "Non-trainable params: 0\n",
            "_________________________________________________________________\n"
          ]
        }
      ]
    },
    {
      "cell_type": "code",
      "metadata": {
        "colab": {
          "base_uri": "https://localhost:8080/",
          "height": 1000
        },
        "id": "qHjXfuKB32W9",
        "outputId": "53b12838-3705-4676-e3ef-2d3e1218f266"
      },
      "source": [
        "tf.keras.utils.plot_model(regressor_model,show_shapes=True)"
      ],
      "execution_count": 18,
      "outputs": [
        {
          "output_type": "execute_result",
          "data": {
            "image/png": "[encoded data removed]",
            "text/plain": [
              "<IPython.core.display.Image object>"
            ]
          },
          "metadata": {},
          "execution_count": 18
        }
      ]
    },
    {
      "cell_type": "code",
      "metadata": {
        "id": "2KwFp8qK2Igi"
      },
      "source": [
        "regressor_model.compile(loss='mean_squared_error' , optimizer='adam')"
      ],
      "execution_count": 221,
      "outputs": []
    },
    {
      "cell_type": "code",
      "metadata": {
        "id": "K_BO3lL89I6l",
        "colab": {
          "base_uri": "https://localhost:8080/"
        },
        "outputId": "7cc4d681-9edd-46aa-ce5e-e3eb24368d74"
      },
      "source": [
        "regressor_model.fit(X_train , Y_train , epochs=30 , batch_size=32)"
      ],
      "execution_count": 222,
      "outputs": [
        {
          "output_type": "stream",
          "name": "stdout",
          "text": [
            "Epoch 1/30\n",
            "68/68 [==============================] - 24s 273ms/step - loss: 0.0164\n",
            "Epoch 2/30\n",
            "68/68 [==============================] - 19s 275ms/step - loss: 0.0020\n",
            "Epoch 3/30\n",
            "68/68 [==============================] - 19s 273ms/step - loss: 0.0022\n",
            "Epoch 4/30\n",
            "68/68 [==============================] - 19s 276ms/step - loss: 0.0019\n",
            "Epoch 5/30\n",
            "68/68 [==============================] - 19s 277ms/step - loss: 0.0026\n",
            "Epoch 6/30\n",
            "68/68 [==============================] - 19s 273ms/step - loss: 0.0019\n",
            "Epoch 7/30\n",
            "68/68 [==============================] - 19s 274ms/step - loss: 0.0017\n",
            "Epoch 8/30\n",
            "68/68 [==============================] - 19s 274ms/step - loss: 0.0016\n",
            "Epoch 9/30\n",
            "68/68 [==============================] - 19s 272ms/step - loss: 0.0018\n",
            "Epoch 10/30\n",
            "68/68 [==============================] - 19s 273ms/step - loss: 0.0017\n",
            "Epoch 11/30\n",
            "68/68 [==============================] - 19s 272ms/step - loss: 0.0017\n",
            "Epoch 12/30\n",
            "68/68 [==============================] - 19s 273ms/step - loss: 0.0016\n",
            "Epoch 13/30\n",
            "68/68 [==============================] - 19s 276ms/step - loss: 0.0015\n",
            "Epoch 14/30\n",
            "68/68 [==============================] - 19s 274ms/step - loss: 0.0013\n",
            "Epoch 15/30\n",
            "68/68 [==============================] - 19s 274ms/step - loss: 0.0014\n",
            "Epoch 16/30\n",
            "68/68 [==============================] - 19s 273ms/step - loss: 0.0015\n",
            "Epoch 17/30\n",
            "68/68 [==============================] - 19s 273ms/step - loss: 0.0013\n",
            "Epoch 18/30\n",
            "68/68 [==============================] - 19s 272ms/step - loss: 0.0010\n",
            "Epoch 19/30\n",
            "68/68 [==============================] - 18s 272ms/step - loss: 0.0012\n",
            "Epoch 20/30\n",
            "68/68 [==============================] - 19s 274ms/step - loss: 0.0012\n",
            "Epoch 21/30\n",
            "68/68 [==============================] - 19s 276ms/step - loss: 0.0013\n",
            "Epoch 22/30\n",
            "68/68 [==============================] - 19s 276ms/step - loss: 0.0011\n",
            "Epoch 23/30\n",
            "68/68 [==============================] - 19s 275ms/step - loss: 0.0011\n",
            "Epoch 24/30\n",
            "68/68 [==============================] - 19s 276ms/step - loss: 0.0011\n",
            "Epoch 25/30\n",
            "68/68 [==============================] - 19s 274ms/step - loss: 0.0011\n",
            "Epoch 26/30\n",
            "68/68 [==============================] - 19s 274ms/step - loss: 0.0011\n",
            "Epoch 27/30\n",
            "68/68 [==============================] - 19s 274ms/step - loss: 0.0011\n",
            "Epoch 28/30\n",
            "68/68 [==============================] - 19s 273ms/step - loss: 9.8992e-04\n",
            "Epoch 29/30\n",
            "68/68 [==============================] - 19s 273ms/step - loss: 0.0011\n",
            "Epoch 30/30\n",
            "68/68 [==============================] - 19s 275ms/step - loss: 0.0010\n"
          ]
        },
        {
          "output_type": "execute_result",
          "data": {
            "text/plain": [
              "<keras.callbacks.History at 0x7fe84cf4b7d0>"
            ]
          },
          "metadata": {},
          "execution_count": 222
        }
      ]
    },
    {
      "cell_type": "code",
      "metadata": {
        "id": "5wvbzwK59ZbW"
      },
      "source": [
        ""
      ],
      "execution_count": 222,
      "outputs": []
    },
    {
      "cell_type": "markdown",
      "metadata": {
        "id": "ffBlbCll-pVo"
      },
      "source": [
        "# Preparing Test Data Set"
      ]
    },
    {
      "cell_type": "code",
      "metadata": {
        "id": "JtHQSDfDKElQ"
      },
      "source": [
        "testing_prep = data_train.tail(100)"
      ],
      "execution_count": 223,
      "outputs": []
    },
    {
      "cell_type": "code",
      "metadata": {
        "id": "n1DwQ3h523Nt",
        "colab": {
          "base_uri": "https://localhost:8080/",
          "height": 417
        },
        "outputId": "978ad199-9bc4-41b7-e2c2-2e593a22e32b"
      },
      "source": [
        "testing_prep"
      ],
      "execution_count": 224,
      "outputs": [
        {
          "output_type": "execute_result",
          "data": {
            "text/html": [
              "<div>\n",
              "<style scoped>\n",
              "    .dataframe tbody tr th:only-of-type {\n",
              "        vertical-align: middle;\n",
              "    }\n",
              "\n",
              "    .dataframe tbody tr th {\n",
              "        vertical-align: top;\n",
              "    }\n",
              "\n",
              "    .dataframe thead th {\n",
              "        text-align: right;\n",
              "    }\n",
              "</style>\n",
              "<table border=\"1\" class=\"dataframe\">\n",
              "  <thead>\n",
              "    <tr style=\"text-align: right;\">\n",
              "      <th></th>\n",
              "      <th>Date</th>\n",
              "      <th>Open</th>\n",
              "      <th>High</th>\n",
              "      <th>Low</th>\n",
              "      <th>Close</th>\n",
              "      <th>Adj Close</th>\n",
              "      <th>Volume</th>\n",
              "    </tr>\n",
              "  </thead>\n",
              "  <tbody>\n",
              "    <tr>\n",
              "      <th>2164</th>\n",
              "      <td>2020-04-09</td>\n",
              "      <td>1224.079956</td>\n",
              "      <td>1225.569946</td>\n",
              "      <td>1196.734985</td>\n",
              "      <td>1211.449951</td>\n",
              "      <td>1211.449951</td>\n",
              "      <td>2175400</td>\n",
              "    </tr>\n",
              "    <tr>\n",
              "      <th>2165</th>\n",
              "      <td>2020-04-13</td>\n",
              "      <td>1209.180054</td>\n",
              "      <td>1220.510010</td>\n",
              "      <td>1187.598022</td>\n",
              "      <td>1217.560059</td>\n",
              "      <td>1217.560059</td>\n",
              "      <td>1739800</td>\n",
              "    </tr>\n",
              "    <tr>\n",
              "      <th>2166</th>\n",
              "      <td>2020-04-14</td>\n",
              "      <td>1245.089966</td>\n",
              "      <td>1282.069946</td>\n",
              "      <td>1236.930054</td>\n",
              "      <td>1269.229980</td>\n",
              "      <td>1269.229980</td>\n",
              "      <td>2470400</td>\n",
              "    </tr>\n",
              "    <tr>\n",
              "      <th>2167</th>\n",
              "      <td>2020-04-15</td>\n",
              "      <td>1245.609985</td>\n",
              "      <td>1280.459961</td>\n",
              "      <td>1240.400024</td>\n",
              "      <td>1262.469971</td>\n",
              "      <td>1262.469971</td>\n",
              "      <td>1671700</td>\n",
              "    </tr>\n",
              "    <tr>\n",
              "      <th>2168</th>\n",
              "      <td>2020-04-16</td>\n",
              "      <td>1274.099976</td>\n",
              "      <td>1279.000000</td>\n",
              "      <td>1242.619995</td>\n",
              "      <td>1263.469971</td>\n",
              "      <td>1263.469971</td>\n",
              "      <td>2518100</td>\n",
              "    </tr>\n",
              "    <tr>\n",
              "      <th>...</th>\n",
              "      <td>...</td>\n",
              "      <td>...</td>\n",
              "      <td>...</td>\n",
              "      <td>...</td>\n",
              "      <td>...</td>\n",
              "      <td>...</td>\n",
              "      <td>...</td>\n",
              "    </tr>\n",
              "    <tr>\n",
              "      <th>2259</th>\n",
              "      <td>2020-08-25</td>\n",
              "      <td>1582.069946</td>\n",
              "      <td>1611.619995</td>\n",
              "      <td>1582.069946</td>\n",
              "      <td>1608.219971</td>\n",
              "      <td>1608.219971</td>\n",
              "      <td>2247100</td>\n",
              "    </tr>\n",
              "    <tr>\n",
              "      <th>2260</th>\n",
              "      <td>2020-08-26</td>\n",
              "      <td>1608.000000</td>\n",
              "      <td>1659.219971</td>\n",
              "      <td>1603.599976</td>\n",
              "      <td>1652.380005</td>\n",
              "      <td>1652.380005</td>\n",
              "      <td>3993400</td>\n",
              "    </tr>\n",
              "    <tr>\n",
              "      <th>2261</th>\n",
              "      <td>2020-08-27</td>\n",
              "      <td>1653.680054</td>\n",
              "      <td>1655.000000</td>\n",
              "      <td>1625.750000</td>\n",
              "      <td>1634.329956</td>\n",
              "      <td>1634.329956</td>\n",
              "      <td>1861600</td>\n",
              "    </tr>\n",
              "    <tr>\n",
              "      <th>2262</th>\n",
              "      <td>2020-08-28</td>\n",
              "      <td>1633.489990</td>\n",
              "      <td>1647.170044</td>\n",
              "      <td>1630.750000</td>\n",
              "      <td>1644.410034</td>\n",
              "      <td>1644.410034</td>\n",
              "      <td>1499000</td>\n",
              "    </tr>\n",
              "    <tr>\n",
              "      <th>2263</th>\n",
              "      <td>2020-08-31</td>\n",
              "      <td>1647.890015</td>\n",
              "      <td>1647.964966</td>\n",
              "      <td>1630.310059</td>\n",
              "      <td>1634.180054</td>\n",
              "      <td>1634.180054</td>\n",
              "      <td>1823400</td>\n",
              "    </tr>\n",
              "  </tbody>\n",
              "</table>\n",
              "<p>100 rows × 7 columns</p>\n",
              "</div>"
            ],
            "text/plain": [
              "            Date         Open         High  ...        Close    Adj Close   Volume\n",
              "2164  2020-04-09  1224.079956  1225.569946  ...  1211.449951  1211.449951  2175400\n",
              "2165  2020-04-13  1209.180054  1220.510010  ...  1217.560059  1217.560059  1739800\n",
              "2166  2020-04-14  1245.089966  1282.069946  ...  1269.229980  1269.229980  2470400\n",
              "2167  2020-04-15  1245.609985  1280.459961  ...  1262.469971  1262.469971  1671700\n",
              "2168  2020-04-16  1274.099976  1279.000000  ...  1263.469971  1263.469971  2518100\n",
              "...          ...          ...          ...  ...          ...          ...      ...\n",
              "2259  2020-08-25  1582.069946  1611.619995  ...  1608.219971  1608.219971  2247100\n",
              "2260  2020-08-26  1608.000000  1659.219971  ...  1652.380005  1652.380005  3993400\n",
              "2261  2020-08-27  1653.680054  1655.000000  ...  1634.329956  1634.329956  1861600\n",
              "2262  2020-08-28  1633.489990  1647.170044  ...  1644.410034  1644.410034  1499000\n",
              "2263  2020-08-31  1647.890015  1647.964966  ...  1634.180054  1634.180054  1823400\n",
              "\n",
              "[100 rows x 7 columns]"
            ]
          },
          "metadata": {},
          "execution_count": 224
        }
      ]
    },
    {
      "cell_type": "code",
      "metadata": {
        "id": "CCGj112M24zO"
      },
      "source": [
        "testing_prep = testing_prep.append(data_test , ignore_index=True)"
      ],
      "execution_count": 225,
      "outputs": []
    },
    {
      "cell_type": "code",
      "metadata": {
        "id": "YTKgyF6i2671",
        "colab": {
          "base_uri": "https://localhost:8080/"
        },
        "outputId": "6be69ef7-5e18-42ff-daa4-5dd25d13f32f"
      },
      "source": [
        "testing_set = testing_prep.iloc[:,4:5]\n",
        "testing_prep.shape"
      ],
      "execution_count": 226,
      "outputs": [
        {
          "output_type": "execute_result",
          "data": {
            "text/plain": [
              "(352, 7)"
            ]
          },
          "metadata": {},
          "execution_count": 226
        }
      ]
    },
    {
      "cell_type": "code",
      "metadata": {
        "id": "iTGjjHJU280b",
        "colab": {
          "base_uri": "https://localhost:8080/"
        },
        "outputId": "51db0b52-3f9d-4214-f23a-57b7b06ea109"
      },
      "source": [
        "testing_set.shape\n",
        "testing_set = scaler.transform(testing_set)\n",
        "testing_set"
      ],
      "execution_count": 227,
      "outputs": [
        {
          "output_type": "execute_result",
          "data": {
            "text/plain": [
              "array([[0.68629251],\n",
              "       [0.69063966],\n",
              "       [0.72740114],\n",
              "       [0.72259161],\n",
              "       [0.72330307],\n",
              "       [0.73737593],\n",
              "       [0.72553709],\n",
              "       [0.6897716 ],\n",
              "       [0.72311809],\n",
              "       [0.73243838],\n",
              "       [0.73457279],\n",
              "       [0.73213241],\n",
              "       [0.70210139],\n",
              "       [0.77880468],\n",
              "       [0.78391305],\n",
              "       [0.76395635],\n",
              "       [0.76836038],\n",
              "       [0.78565611],\n",
              "       [0.78294547],\n",
              "       [0.80091715],\n",
              "       [0.81216541],\n",
              "       [0.82275917],\n",
              "       [0.80317957],\n",
              "       [0.78438968],\n",
              "       [0.7892277 ],\n",
              "       [0.80136529],\n",
              "       [0.80901357],\n",
              "       [0.8015752 ],\n",
              "       [0.82522082],\n",
              "       [0.82243192],\n",
              "       [0.8278533 ],\n",
              "       [0.83254897],\n",
              "       [0.83313234],\n",
              "       [0.83234262],\n",
              "       [0.84101546],\n",
              "       [0.84307864],\n",
              "       [0.84834352],\n",
              "       [0.84632298],\n",
              "       [0.82910549],\n",
              "       [0.84775304],\n",
              "       [0.85360128],\n",
              "       [0.86039583],\n",
              "       [0.86728991],\n",
              "       [0.82317179],\n",
              "       [0.82981696],\n",
              "       [0.8345624 ],\n",
              "       [0.85083366],\n",
              "       [0.85681   ],\n",
              "       [0.84602413],\n",
              "       [0.84300751],\n",
              "       [0.85733648],\n",
              "       [0.86626544],\n",
              "       [0.84318538],\n",
              "       [0.84984471],\n",
              "       [0.79190994],\n",
              "       [0.81686108],\n",
              "       [0.83012284],\n",
              "       [0.84750404],\n",
              "       [0.8664717 ],\n",
              "       [0.8885272 ],\n",
              "       [0.88104264],\n",
              "       [0.88874068],\n",
              "       [0.89940557],\n",
              "       [0.9212832 ],\n",
              "       [0.89965457],\n",
              "       [0.90622852],\n",
              "       [0.90129098],\n",
              "       [0.90439297],\n",
              "       [0.90264991],\n",
              "       [0.93834419],\n",
              "       [0.93315052],\n",
              "       [0.94031496],\n",
              "       [0.9027424 ],\n",
              "       [0.90003167],\n",
              "       [0.91307284],\n",
              "       [0.89182842],\n",
              "       [0.90725308],\n",
              "       [0.91396217],\n",
              "       [0.87946311],\n",
              "       [0.87340851],\n",
              "       [0.86666382],\n",
              "       [0.87281091],\n",
              "       [0.89165768],\n",
              "       [0.88766636],\n",
              "       [0.88881181],\n",
              "       [0.87758483],\n",
              "       [0.89629646],\n",
              "       [0.90471309],\n",
              "       [0.89708618],\n",
              "       [0.90437872],\n",
              "       [0.93327854],\n",
              "       [0.92540263],\n",
              "       [0.94974903],\n",
              "       [0.94880281],\n",
              "       [0.95433796],\n",
              "       [0.96858156],\n",
              "       [1.        ],\n",
              "       [0.98715797],\n",
              "       [0.99432962],\n",
              "       [0.98705132],\n",
              "       [1.00592649],\n",
              "       [1.05400042],\n",
              "       [0.9925011 ],\n",
              "       [0.9563586 ],\n",
              "       [0.914631  ],\n",
              "       [0.93211172],\n",
              "       [0.91436776],\n",
              "       [0.90632814],\n",
              "       [0.90530367],\n",
              "       [0.92106973],\n",
              "       [0.90645624],\n",
              "       [0.88840631],\n",
              "       [0.86312072],\n",
              "       [0.84260914],\n",
              "       [0.86701243],\n",
              "       [0.83126118],\n",
              "       [0.84056723],\n",
              "       [0.85242734],\n",
              "       [0.86634369],\n",
              "       [0.8697658 ],\n",
              "       [0.86995791],\n",
              "       [0.88453588],\n",
              "       [0.86200375],\n",
              "       [0.88164025],\n",
              "       [0.85846057],\n",
              "       [0.86333419],\n",
              "       [0.88157624],\n",
              "       [0.90241507],\n",
              "       [0.94078456],\n",
              "       [0.94258459],\n",
              "       [0.94002324],\n",
              "       [0.93365564],\n",
              "       [0.94353081],\n",
              "       [0.91621044],\n",
              "       [0.93137898],\n",
              "       [0.95797364],\n",
              "       [0.97364009],\n",
              "       [0.99190349],\n",
              "       [0.95593877],\n",
              "       [0.96576418],\n",
              "       [0.90341114],\n",
              "       [0.93942563],\n",
              "       [0.97768126],\n",
              "       [0.98125284],\n",
              "       [0.99845608],\n",
              "       [1.0688345 ],\n",
              "       [1.07896579],\n",
              "       [1.07781322],\n",
              "       [1.07870255],\n",
              "       [1.06261628],\n",
              "       [1.07138152],\n",
              "       [1.06933961],\n",
              "       [1.08867734],\n",
              "       [1.09177933],\n",
              "       [1.08378956],\n",
              "       [1.06716257],\n",
              "       [1.07935713],\n",
              "       [1.06389687],\n",
              "       [1.05868184],\n",
              "       [1.08288599],\n",
              "       [1.08470026],\n",
              "       [1.10018172],\n",
              "       [1.07709463],\n",
              "       [1.10367505],\n",
              "       [1.12491234],\n",
              "       [1.12407286],\n",
              "       [1.12494083],\n",
              "       [1.11888623],\n",
              "       [1.11822462],\n",
              "       [1.09373587],\n",
              "       [1.08747492],\n",
              "       [1.09205682],\n",
              "       [1.07661088],\n",
              "       [1.08209627],\n",
              "       [1.07870255],\n",
              "       [1.06795941],\n",
              "       [1.05594271],\n",
              "       [1.06189057],\n",
              "       [1.05059958],\n",
              "       [1.05691742],\n",
              "       [1.06152059],\n",
              "       [1.08801564],\n",
              "       [1.07565745],\n",
              "       [1.06199731],\n",
              "       [1.07079104],\n",
              "       [1.05397193],\n",
              "       [1.06299338],\n",
              "       [1.05898781],\n",
              "       [1.09595564],\n",
              "       [1.11015651],\n",
              "       [1.08134919],\n",
              "       [1.06699894],\n",
              "       [1.07258395],\n",
              "       [1.0624669 ],\n",
              "       [1.05962806],\n",
              "       [1.09852403],\n",
              "       [1.16685342],\n",
              "       [1.16994828],\n",
              "       [1.1769207 ],\n",
              "       [1.17574676],\n",
              "       [1.18843932],\n",
              "       [1.12693298],\n",
              "       [1.14992757],\n",
              "       [1.13045471],\n",
              "       [1.17713409],\n",
              "       [1.19574611],\n",
              "       [1.29717299],\n",
              "       [1.29169472],\n",
              "       [1.31704423],\n",
              "       [1.3134228 ],\n",
              "       [1.30673507],\n",
              "       [1.3151801 ],\n",
              "       [1.31554296],\n",
              "       [1.32139137],\n",
              "       [1.33404824],\n",
              "       [1.33860886],\n",
              "       [1.33070438],\n",
              "       [1.31927816],\n",
              "       [1.29348034],\n",
              "       [1.29773507],\n",
              "       [1.31503072],\n",
              "       [1.26963201],\n",
              "       [1.27354508],\n",
              "       [1.30531214],\n",
              "       [1.30127817],\n",
              "       [1.26632367],\n",
              "       [1.28224641],\n",
              "       [1.32454313],\n",
              "       [1.2645166 ],\n",
              "       [1.28481471],\n",
              "       [1.28647248],\n",
              "       [1.32897556],\n",
              "       [1.29137442],\n",
              "       [1.29462588],\n",
              "       [1.3131454 ],\n",
              "       [1.31212093],\n",
              "       [1.27308974],\n",
              "       [1.27805577],\n",
              "       [1.27477591],\n",
              "       [1.2849997 ],\n",
              "       [1.27937917],\n",
              "       [1.27888109],\n",
              "       [1.27261311],\n",
              "       [1.28712698],\n",
              "       [1.28683534],\n",
              "       [1.29614834],\n",
              "       [1.34532507],\n",
              "       [1.40779197],\n",
              "       [1.40722276],\n",
              "       [1.4249596 ],\n",
              "       [1.43617234],\n",
              "       [1.4507147 ],\n",
              "       [1.42859528],\n",
              "       [1.43747438],\n",
              "       [1.42863089],\n",
              "       [1.45838434],\n",
              "       [1.45916702],\n",
              "       [1.46246816],\n",
              "       [1.45622857],\n",
              "       [1.45598678],\n",
              "       [1.43793677],\n",
              "       [1.47164619],\n",
              "       [1.47978534],\n",
              "       [1.46582644],\n",
              "       [1.51761403],\n",
              "       [1.55317317],\n",
              "       [1.53910761],\n",
              "       [1.52847103],\n",
              "       [1.49935783],\n",
              "       [1.50112937],\n",
              "       [1.51863867],\n",
              "       [1.53097541],\n",
              "       [1.49040039],\n",
              "       [1.46699317],\n",
              "       [1.41741815],\n",
              "       [1.43370357],\n",
              "       [1.47225796],\n",
              "       [1.47599317],\n",
              "       [1.46320099],\n",
              "       [1.46695756],\n",
              "       [1.50066699],\n",
              "       [1.49284797],\n",
              "       [1.53665291],\n",
              "       [1.53836053],\n",
              "       [1.55576301],\n",
              "       [1.53369326],\n",
              "       [1.54013208],\n",
              "       [1.55311637],\n",
              "       [1.54704753],\n",
              "       [1.53518742],\n",
              "       [1.56873305],\n",
              "       [1.57892844],\n",
              "       [1.59085264],\n",
              "       [1.59693555],\n",
              "       [1.61842202],\n",
              "       [1.61296494],\n",
              "       [1.62229236],\n",
              "       [1.6177531 ],\n",
              "       [1.61296494],\n",
              "       [1.62256263],\n",
              "       [1.61112947],\n",
              "       [1.62375802],\n",
              "       [1.63150583],\n",
              "       [1.62385043],\n",
              "       [1.63552555],\n",
              "       [1.63144173],\n",
              "       [1.62894448],\n",
              "       [1.61754692],\n",
              "       [1.60755077],\n",
              "       [1.6225272 ],\n",
              "       [1.65597313],\n",
              "       [1.67094244],\n",
              "       [1.67530382],\n",
              "       [1.66249028],\n",
              "       [1.66814642],\n",
              "       [1.68222639],\n",
              "       [1.68835203],\n",
              "       [1.70383357],\n",
              "       [1.69222254],\n",
              "       [1.70046122],\n",
              "       [1.66358597],\n",
              "       [1.68987467],\n",
              "       [1.71120445],\n",
              "       [1.72156347],\n",
              "       [1.78541769],\n",
              "       [1.81143594],\n",
              "       [1.77091077],\n",
              "       [1.76500555],\n",
              "       [1.76726814],\n",
              "       [1.74849241],\n",
              "       [1.75942776],\n",
              "       [1.76356142],\n",
              "       [1.75998272],\n",
              "       [1.77295276],\n",
              "       [1.77431873],\n",
              "       [1.78806433],\n",
              "       [1.78940893],\n",
              "       [1.78361766],\n",
              "       [1.7935782 ],\n",
              "       [1.79381304],\n",
              "       [1.80106998],\n",
              "       [1.77808242],\n",
              "       [1.7676878 ],\n",
              "       [1.77257566],\n",
              "       [1.79425406],\n",
              "       [1.83213972],\n",
              "       [1.85062364],\n",
              "       [1.85847115],\n",
              "       [1.84670344],\n",
              "       [1.88124523],\n",
              "       [1.89432193],\n",
              "       [1.89421528]])"
            ]
          },
          "metadata": {},
          "execution_count": 227
        }
      ]
    },
    {
      "cell_type": "code",
      "metadata": {
        "id": "wwAMLueO2-sF"
      },
      "source": [
        "X_test = []\n",
        "Y_test = []\n",
        "\n",
        "for i in range(100 , testing_set.shape[0]):\n",
        "  X_test.append(testing_set[i - 100:i])\n",
        "  Y_test.append(testing_set[i,0])"
      ],
      "execution_count": 228,
      "outputs": []
    },
    {
      "cell_type": "code",
      "metadata": {
        "id": "xvm1nvFg3CNo"
      },
      "source": [
        "X_test , Y_test = np.array(X_test) , np.array(Y_test)"
      ],
      "execution_count": 229,
      "outputs": []
    },
    {
      "cell_type": "markdown",
      "metadata": {
        "id": "nAK0VJmu3ljv"
      },
      "source": [
        "# Predicting Output and Vizualization\n"
      ]
    },
    {
      "cell_type": "code",
      "metadata": {
        "id": "emVY7uXh3D5h"
      },
      "source": [
        "Y_pred = regressor_model.predict(X_test)"
      ],
      "execution_count": 230,
      "outputs": []
    },
    {
      "cell_type": "code",
      "metadata": {
        "id": "TuFXnySP3Fmv",
        "colab": {
          "base_uri": "https://localhost:8080/"
        },
        "outputId": "03cc6837-ba11-45fa-d8b7-3fd6853c2c76"
      },
      "source": [
        "Y_pred"
      ],
      "execution_count": 231,
      "outputs": [
        {
          "output_type": "execute_result",
          "data": {
            "text/plain": [
              "array([[1.0089955 ],\n",
              "       [1.015834  ],\n",
              "       [1.0231894 ],\n",
              "       [1.0290878 ],\n",
              "       [1.0304478 ],\n",
              "       [1.0244147 ],\n",
              "       [1.0119183 ],\n",
              "       [0.9946221 ],\n",
              "       [0.9746901 ],\n",
              "       [0.9544615 ],\n",
              "       [0.93661726],\n",
              "       [0.92238784],\n",
              "       [0.91163325],\n",
              "       [0.9030843 ],\n",
              "       [0.8952296 ],\n",
              "       [0.8884364 ],\n",
              "       [0.88200283],\n",
              "       [0.8761188 ],\n",
              "       [0.8716372 ],\n",
              "       [0.8696692 ],\n",
              "       [0.8707595 ],\n",
              "       [0.8746998 ],\n",
              "       [0.8812922 ],\n",
              "       [0.88890946],\n",
              "       [0.89684993],\n",
              "       [0.9035645 ],\n",
              "       [0.90829784],\n",
              "       [0.91157824],\n",
              "       [0.91475606],\n",
              "       [0.92007196],\n",
              "       [0.9283252 ],\n",
              "       [0.93881804],\n",
              "       [0.9498296 ],\n",
              "       [0.960119  ],\n",
              "       [0.9675187 ],\n",
              "       [0.9716087 ],\n",
              "       [0.97378546],\n",
              "       [0.97580725],\n",
              "       [0.97931194],\n",
              "       [0.98308957],\n",
              "       [0.9863638 ],\n",
              "       [0.98589706],\n",
              "       [0.98200774],\n",
              "       [0.9774477 ],\n",
              "       [0.9743641 ],\n",
              "       [0.97446954],\n",
              "       [0.9811521 ],\n",
              "       [0.9955394 ],\n",
              "       [1.0160671 ],\n",
              "       [1.0395861 ],\n",
              "       [1.0617709 ],\n",
              "       [1.079877  ],\n",
              "       [1.0923916 ],\n",
              "       [1.1000154 ],\n",
              "       [1.1038489 ],\n",
              "       [1.1044717 ],\n",
              "       [1.1017243 ],\n",
              "       [1.0966412 ],\n",
              "       [1.0895933 ],\n",
              "       [1.0810802 ],\n",
              "       [1.0730433 ],\n",
              "       [1.0668921 ],\n",
              "       [1.0639933 ],\n",
              "       [1.0635343 ],\n",
              "       [1.0657895 ],\n",
              "       [1.0714371 ],\n",
              "       [1.0800643 ],\n",
              "       [1.0905449 ],\n",
              "       [1.1011355 ],\n",
              "       [1.1103654 ],\n",
              "       [1.1161249 ],\n",
              "       [1.1174101 ],\n",
              "       [1.1147858 ],\n",
              "       [1.1087457 ],\n",
              "       [1.1006956 ],\n",
              "       [1.0919353 ],\n",
              "       [1.0831376 ],\n",
              "       [1.0744516 ],\n",
              "       [1.0665635 ],\n",
              "       [1.0596039 ],\n",
              "       [1.0541053 ],\n",
              "       [1.0506381 ],\n",
              "       [1.0505999 ],\n",
              "       [1.0537375 ],\n",
              "       [1.0585525 ],\n",
              "       [1.064102  ],\n",
              "       [1.0688368 ],\n",
              "       [1.0723488 ],\n",
              "       [1.0744358 ],\n",
              "       [1.0769433 ],\n",
              "       [1.0814779 ],\n",
              "       [1.0869324 ],\n",
              "       [1.0913734 ],\n",
              "       [1.0939146 ],\n",
              "       [1.0939006 ],\n",
              "       [1.0913528 ],\n",
              "       [1.0886897 ],\n",
              "       [1.090674  ],\n",
              "       [1.0992726 ],\n",
              "       [1.1140796 ],\n",
              "       [1.1326457 ],\n",
              "       [1.152468  ],\n",
              "       [1.1676391 ],\n",
              "       [1.1763208 ],\n",
              "       [1.1775488 ],\n",
              "       [1.174645  ],\n",
              "       [1.1711733 ],\n",
              "       [1.1743675 ],\n",
              "       [1.1863949 ],\n",
              "       [1.2071183 ],\n",
              "       [1.2330205 ],\n",
              "       [1.2589972 ],\n",
              "       [1.2812247 ],\n",
              "       [1.2972535 ],\n",
              "       [1.3065023 ],\n",
              "       [1.3101194 ],\n",
              "       [1.309581  ],\n",
              "       [1.3056364 ],\n",
              "       [1.2984912 ],\n",
              "       [1.2874688 ],\n",
              "       [1.2735939 ],\n",
              "       [1.2594604 ],\n",
              "       [1.2446301 ],\n",
              "       [1.2298933 ],\n",
              "       [1.2180593 ],\n",
              "       [1.2105906 ],\n",
              "       [1.2060757 ],\n",
              "       [1.2043263 ],\n",
              "       [1.2073133 ],\n",
              "       [1.2121811 ],\n",
              "       [1.2179717 ],\n",
              "       [1.2240627 ],\n",
              "       [1.2323611 ],\n",
              "       [1.2411945 ],\n",
              "       [1.2492993 ],\n",
              "       [1.2568246 ],\n",
              "       [1.263619  ],\n",
              "       [1.2672112 ],\n",
              "       [1.2670126 ],\n",
              "       [1.2633374 ],\n",
              "       [1.2578025 ],\n",
              "       [1.2515454 ],\n",
              "       [1.2454996 ],\n",
              "       [1.2399921 ],\n",
              "       [1.2360903 ],\n",
              "       [1.2342323 ],\n",
              "       [1.2348568 ],\n",
              "       [1.240401  ],\n",
              "       [1.2545849 ],\n",
              "       [1.2770674 ],\n",
              "       [1.305619  ],\n",
              "       [1.3366435 ],\n",
              "       [1.3666799 ],\n",
              "       [1.3907872 ],\n",
              "       [1.4067261 ],\n",
              "       [1.4134059 ],\n",
              "       [1.4134511 ],\n",
              "       [1.4090331 ],\n",
              "       [1.4020197 ],\n",
              "       [1.3932645 ],\n",
              "       [1.383517  ],\n",
              "       [1.3723984 ],\n",
              "       [1.3623717 ],\n",
              "       [1.3552681 ],\n",
              "       [1.3508531 ],\n",
              "       [1.3517207 ],\n",
              "       [1.3602757 ],\n",
              "       [1.3748529 ],\n",
              "       [1.3916862 ],\n",
              "       [1.4054525 ],\n",
              "       [1.413578  ],\n",
              "       [1.4167962 ],\n",
              "       [1.4171294 ],\n",
              "       [1.4134797 ],\n",
              "       [1.4047929 ],\n",
              "       [1.3890476 ],\n",
              "       [1.3686723 ],\n",
              "       [1.3490988 ],\n",
              "       [1.3341658 ],\n",
              "       [1.3250299 ],\n",
              "       [1.3218997 ],\n",
              "       [1.3260114 ],\n",
              "       [1.3361955 ],\n",
              "       [1.3529828 ],\n",
              "       [1.374733  ],\n",
              "       [1.3995593 ],\n",
              "       [1.4229661 ],\n",
              "       [1.4420328 ],\n",
              "       [1.4559548 ],\n",
              "       [1.4641049 ],\n",
              "       [1.4659336 ],\n",
              "       [1.4642937 ],\n",
              "       [1.4615734 ],\n",
              "       [1.4596267 ],\n",
              "       [1.4591967 ],\n",
              "       [1.4613104 ],\n",
              "       [1.4650353 ],\n",
              "       [1.4696493 ],\n",
              "       [1.4737371 ],\n",
              "       [1.4759558 ],\n",
              "       [1.4763796 ],\n",
              "       [1.4744668 ],\n",
              "       [1.4712523 ],\n",
              "       [1.4680022 ],\n",
              "       [1.4648632 ],\n",
              "       [1.4626865 ],\n",
              "       [1.4614141 ],\n",
              "       [1.4606864 ],\n",
              "       [1.4594884 ],\n",
              "       [1.4568923 ],\n",
              "       [1.4539335 ],\n",
              "       [1.4535689 ],\n",
              "       [1.4577245 ],\n",
              "       [1.4664204 ],\n",
              "       [1.4772408 ],\n",
              "       [1.4882147 ],\n",
              "       [1.4986156 ],\n",
              "       [1.5079632 ],\n",
              "       [1.5166297 ],\n",
              "       [1.5233977 ],\n",
              "       [1.5280423 ],\n",
              "       [1.5278621 ],\n",
              "       [1.5243282 ],\n",
              "       [1.5201894 ],\n",
              "       [1.5175409 ],\n",
              "       [1.5212123 ],\n",
              "       [1.5333148 ],\n",
              "       [1.5490326 ],\n",
              "       [1.5634742 ],\n",
              "       [1.5736119 ],\n",
              "       [1.5769402 ],\n",
              "       [1.5743167 ],\n",
              "       [1.5676095 ],\n",
              "       [1.5584251 ],\n",
              "       [1.5491518 ],\n",
              "       [1.5412314 ],\n",
              "       [1.5362296 ],\n",
              "       [1.5344622 ],\n",
              "       [1.5350164 ],\n",
              "       [1.5375793 ],\n",
              "       [1.5414275 ],\n",
              "       [1.5462507 ],\n",
              "       [1.5498346 ],\n",
              "       [1.5505885 ],\n",
              "       [1.5487642 ],\n",
              "       [1.5466752 ],\n",
              "       [1.5481241 ],\n",
              "       [1.5551982 ],\n",
              "       [1.5676029 ],\n",
              "       [1.5821602 ],\n",
              "       [1.5982306 ],\n",
              "       [1.6147614 ]], dtype=float32)"
            ]
          },
          "metadata": {},
          "execution_count": 231
        }
      ]
    },
    {
      "cell_type": "code",
      "metadata": {
        "id": "O5Mbq8FX3IQ4",
        "colab": {
          "base_uri": "https://localhost:8080/"
        },
        "outputId": "98bd9ec1-0f90-4a69-880e-eeb1e1e48c67"
      },
      "source": [
        "Y_test = np.array(Y_test)\n",
        "Y_test"
      ],
      "execution_count": 232,
      "outputs": [
        {
          "output_type": "execute_result",
          "data": {
            "text/plain": [
              "array([1.00592649, 1.05400042, 0.9925011 , 0.9563586 , 0.914631  ,\n",
              "       0.93211172, 0.91436776, 0.90632814, 0.90530367, 0.92106973,\n",
              "       0.90645624, 0.88840631, 0.86312072, 0.84260914, 0.86701243,\n",
              "       0.83126118, 0.84056723, 0.85242734, 0.86634369, 0.8697658 ,\n",
              "       0.86995791, 0.88453588, 0.86200375, 0.88164025, 0.85846057,\n",
              "       0.86333419, 0.88157624, 0.90241507, 0.94078456, 0.94258459,\n",
              "       0.94002324, 0.93365564, 0.94353081, 0.91621044, 0.93137898,\n",
              "       0.95797364, 0.97364009, 0.99190349, 0.95593877, 0.96576418,\n",
              "       0.90341114, 0.93942563, 0.97768126, 0.98125284, 0.99845608,\n",
              "       1.0688345 , 1.07896579, 1.07781322, 1.07870255, 1.06261628,\n",
              "       1.07138152, 1.06933961, 1.08867734, 1.09177933, 1.08378956,\n",
              "       1.06716257, 1.07935713, 1.06389687, 1.05868184, 1.08288599,\n",
              "       1.08470026, 1.10018172, 1.07709463, 1.10367505, 1.12491234,\n",
              "       1.12407286, 1.12494083, 1.11888623, 1.11822462, 1.09373587,\n",
              "       1.08747492, 1.09205682, 1.07661088, 1.08209627, 1.07870255,\n",
              "       1.06795941, 1.05594271, 1.06189057, 1.05059958, 1.05691742,\n",
              "       1.06152059, 1.08801564, 1.07565745, 1.06199731, 1.07079104,\n",
              "       1.05397193, 1.06299338, 1.05898781, 1.09595564, 1.11015651,\n",
              "       1.08134919, 1.06699894, 1.07258395, 1.0624669 , 1.05962806,\n",
              "       1.09852403, 1.16685342, 1.16994828, 1.1769207 , 1.17574676,\n",
              "       1.18843932, 1.12693298, 1.14992757, 1.13045471, 1.17713409,\n",
              "       1.19574611, 1.29717299, 1.29169472, 1.31704423, 1.3134228 ,\n",
              "       1.30673507, 1.3151801 , 1.31554296, 1.32139137, 1.33404824,\n",
              "       1.33860886, 1.33070438, 1.31927816, 1.29348034, 1.29773507,\n",
              "       1.31503072, 1.26963201, 1.27354508, 1.30531214, 1.30127817,\n",
              "       1.26632367, 1.28224641, 1.32454313, 1.2645166 , 1.28481471,\n",
              "       1.28647248, 1.32897556, 1.29137442, 1.29462588, 1.3131454 ,\n",
              "       1.31212093, 1.27308974, 1.27805577, 1.27477591, 1.2849997 ,\n",
              "       1.27937917, 1.27888109, 1.27261311, 1.28712698, 1.28683534,\n",
              "       1.29614834, 1.34532507, 1.40779197, 1.40722276, 1.4249596 ,\n",
              "       1.43617234, 1.4507147 , 1.42859528, 1.43747438, 1.42863089,\n",
              "       1.45838434, 1.45916702, 1.46246816, 1.45622857, 1.45598678,\n",
              "       1.43793677, 1.47164619, 1.47978534, 1.46582644, 1.51761403,\n",
              "       1.55317317, 1.53910761, 1.52847103, 1.49935783, 1.50112937,\n",
              "       1.51863867, 1.53097541, 1.49040039, 1.46699317, 1.41741815,\n",
              "       1.43370357, 1.47225796, 1.47599317, 1.46320099, 1.46695756,\n",
              "       1.50066699, 1.49284797, 1.53665291, 1.53836053, 1.55576301,\n",
              "       1.53369326, 1.54013208, 1.55311637, 1.54704753, 1.53518742,\n",
              "       1.56873305, 1.57892844, 1.59085264, 1.59693555, 1.61842202,\n",
              "       1.61296494, 1.62229236, 1.6177531 , 1.61296494, 1.62256263,\n",
              "       1.61112947, 1.62375802, 1.63150583, 1.62385043, 1.63552555,\n",
              "       1.63144173, 1.62894448, 1.61754692, 1.60755077, 1.6225272 ,\n",
              "       1.65597313, 1.67094244, 1.67530382, 1.66249028, 1.66814642,\n",
              "       1.68222639, 1.68835203, 1.70383357, 1.69222254, 1.70046122,\n",
              "       1.66358597, 1.68987467, 1.71120445, 1.72156347, 1.78541769,\n",
              "       1.81143594, 1.77091077, 1.76500555, 1.76726814, 1.74849241,\n",
              "       1.75942776, 1.76356142, 1.75998272, 1.77295276, 1.77431873,\n",
              "       1.78806433, 1.78940893, 1.78361766, 1.7935782 , 1.79381304,\n",
              "       1.80106998, 1.77808242, 1.7676878 , 1.77257566, 1.79425406,\n",
              "       1.83213972, 1.85062364, 1.85847115, 1.84670344, 1.88124523,\n",
              "       1.89432193, 1.89421528])"
            ]
          },
          "metadata": {},
          "execution_count": 232
        }
      ]
    },
    {
      "cell_type": "code",
      "metadata": {
        "id": "lM5coE9I3KBi",
        "colab": {
          "base_uri": "https://localhost:8080/"
        },
        "outputId": "68db183b-2546-4034-b709-224029ae06d2"
      },
      "source": [
        "s = scaler.scale_\n",
        "f = 1/s\n",
        "f"
      ],
      "execution_count": 233,
      "outputs": [
        {
          "output_type": "execute_result",
          "data": {
            "text/plain": [
              "array([1405.545197])"
            ]
          },
          "metadata": {},
          "execution_count": 233
        }
      ]
    },
    {
      "cell_type": "code",
      "metadata": {
        "id": "XDNrdL0X3N9a"
      },
      "source": [
        "Y_pred = Y_pred * f"
      ],
      "execution_count": 234,
      "outputs": []
    },
    {
      "cell_type": "code",
      "metadata": {
        "id": "2khPHJ-w3QFK"
      },
      "source": [
        "Y_test = Y_test * f"
      ],
      "execution_count": 235,
      "outputs": []
    },
    {
      "cell_type": "code",
      "metadata": {
        "id": "tyR6dhAx3SAq",
        "colab": {
          "base_uri": "https://localhost:8080/",
          "height": 334
        },
        "outputId": "0e2f5046-fc3d-4596-d313-bd5aeb1e38fd"
      },
      "source": [
        "plt.figure(figsize=(14,5))\n",
        "plt.plot(Y_test , color = 'red' , label = \"Real Google Stock Price\")\n",
        "plt.plot(Y_pred  , color = 'blue' , label = \"Predicted Google Stock Price\")\n",
        "plt.xlabel('Time')\n",
        "plt.ylabel('Google Stock Price')\n",
        "plt.legend()\n",
        "plt.show()"
      ],
      "execution_count": 236,
      "outputs": [
        {
          "output_type": "display_data",
          "data": {
            "image/png": "[encoded data removed]",
            "text/plain": [
              "<Figure size 1008x360 with 1 Axes>"
            ]
          },
          "metadata": {
            "needs_background": "light"
          }
        }
      ]
    },
    {
      "cell_type": "code",
      "metadata": {
        "id": "HM6oKzvp3Tg_"
      },
      "source": [
        ""
      ],
      "execution_count": 18,
      "outputs": []
    },
    {
      "cell_type": "code",
      "metadata": {
        "id": "V6VHajpTlFAu"
      },
      "source": [
        ""
      ],
      "execution_count": 18,
      "outputs": []
    },
    {
      "cell_type": "code",
      "metadata": {
        "id": "f9W0MnzqlHXt"
      },
      "source": [
        ""
      ],
      "execution_count": 238,
      "outputs": []
    }
  ]
}